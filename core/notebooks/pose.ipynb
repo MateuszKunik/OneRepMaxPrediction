{
 "cells": [
  {
   "cell_type": "code",
   "execution_count": 10,
   "metadata": {},
   "outputs": [],
   "source": [
    "import sys\n",
    "\n",
    "sys.path.append('../pose_estimation')"
   ]
  },
  {
   "cell_type": "code",
   "execution_count": 11,
   "metadata": {},
   "outputs": [],
   "source": [
    "from pose_estimation.pose_pipeline import setup_custom_pose_landmarker"
   ]
  },
  {
   "cell_type": "code",
   "execution_count": 13,
   "metadata": {},
   "outputs": [],
   "source": [
    "values = [0, 11, 12, 13, 14, 15, 16, 19, 20, 23, 24, 25, 26, 27, 28, 31, 32]\n",
    "custom = {\n",
    "    'THORAX': 'NOSE',\n",
    "    'PELVIS': ['LEFT_HIP', 'RIGHT_HIP']\n",
    "}\n",
    "\n",
    "parameters = {\n",
    "    'selected_values': values,\n",
    "    'custom_landmarks': custom\n",
    "}"
   ]
  },
  {
   "cell_type": "code",
   "execution_count": 15,
   "metadata": {},
   "outputs": [],
   "source": [
    "custom_pose = setup_custom_pose_landmarker(parameters)"
   ]
  },
  {
   "cell_type": "code",
   "execution_count": 20,
   "metadata": {},
   "outputs": [
    {
     "data": {
      "text/plain": [
       "{0: 'NOSE',\n",
       " 1: 'LEFT_SHOULDER',\n",
       " 2: 'RIGHT_SHOULDER',\n",
       " 3: 'LEFT_ELBOW',\n",
       " 4: 'RIGHT_ELBOW',\n",
       " 5: 'LEFT_WRIST',\n",
       " 6: 'RIGHT_WRIST',\n",
       " 7: 'LEFT_INDEX',\n",
       " 8: 'RIGHT_INDEX',\n",
       " 9: 'LEFT_HIP',\n",
       " 10: 'RIGHT_HIP',\n",
       " 11: 'LEFT_KNEE',\n",
       " 12: 'RIGHT_KNEE',\n",
       " 13: 'LEFT_ANKLE',\n",
       " 14: 'RIGHT_ANKLE',\n",
       " 15: 'LEFT_FOOT_INDEX',\n",
       " 16: 'RIGHT_FOOT_INDEX',\n",
       " 17: 'THORAX',\n",
       " 18: 'PELVIS'}"
      ]
     },
     "execution_count": 20,
     "metadata": {},
     "output_type": "execute_result"
    }
   ],
   "source": [
    "custom_pose.get_dictionary()"
   ]
  }
 ],
 "metadata": {
  "kernelspec": {
   "display_name": "sc_env",
   "language": "python",
   "name": "python3"
  },
  "language_info": {
   "codemirror_mode": {
    "name": "ipython",
    "version": 3
   },
   "file_extension": ".py",
   "mimetype": "text/x-python",
   "name": "python",
   "nbconvert_exporter": "python",
   "pygments_lexer": "ipython3",
   "version": "3.11.1"
  }
 },
 "nbformat": 4,
 "nbformat_minor": 2
}
